{
 "cells": [
  {
   "cell_type": "code",
   "execution_count": 1,
   "metadata": {},
   "outputs": [
    {
     "data": {
      "text/html": [
       "<div>\n",
       "<style scoped>\n",
       "    .dataframe tbody tr th:only-of-type {\n",
       "        vertical-align: middle;\n",
       "    }\n",
       "\n",
       "    .dataframe tbody tr th {\n",
       "        vertical-align: top;\n",
       "    }\n",
       "\n",
       "    .dataframe thead th {\n",
       "        text-align: right;\n",
       "    }\n",
       "</style>\n",
       "<table border=\"1\" class=\"dataframe\">\n",
       "  <thead>\n",
       "    <tr style=\"text-align: right;\">\n",
       "      <th></th>\n",
       "      <th>tweet_id</th>\n",
       "      <th>airline_sentiment</th>\n",
       "      <th>airline_sentiment_confidence</th>\n",
       "      <th>negativereason</th>\n",
       "      <th>negativereason_confidence</th>\n",
       "      <th>airline</th>\n",
       "      <th>airline_sentiment_gold</th>\n",
       "      <th>name</th>\n",
       "      <th>negativereason_gold</th>\n",
       "      <th>retweet_count</th>\n",
       "      <th>text</th>\n",
       "      <th>tweet_coord</th>\n",
       "      <th>tweet_created</th>\n",
       "      <th>tweet_location</th>\n",
       "      <th>user_timezone</th>\n",
       "    </tr>\n",
       "  </thead>\n",
       "  <tbody>\n",
       "    <tr>\n",
       "      <th>0</th>\n",
       "      <td>5.695420e+17</td>\n",
       "      <td>negative</td>\n",
       "      <td>0.6809</td>\n",
       "      <td>longlines</td>\n",
       "      <td>0.3511</td>\n",
       "      <td>Delta</td>\n",
       "      <td></td>\n",
       "      <td>KShay1985</td>\n",
       "      <td></td>\n",
       "      <td>0</td>\n",
       "      <td>\"@JetBlue this is ridiculous we are on 1.5 hou...</td>\n",
       "      <td></td>\n",
       "      <td>2015-02-22 08:59:00</td>\n",
       "      <td>\"New York City, NY\"</td>\n",
       "      <td></td>\n",
       "    </tr>\n",
       "    <tr>\n",
       "      <th>1</th>\n",
       "      <td>5.689210e+17</td>\n",
       "      <td>negative</td>\n",
       "      <td>0.6530</td>\n",
       "      <td>longlines</td>\n",
       "      <td>0.3513</td>\n",
       "      <td>Delta</td>\n",
       "      <td></td>\n",
       "      <td>noplasticshower</td>\n",
       "      <td></td>\n",
       "      <td>0</td>\n",
       "      <td>.@JetBlue i'm sorry.  Boarding chaos is underw...</td>\n",
       "      <td></td>\n",
       "      <td>2015-02-20 15:51:00</td>\n",
       "      <td>planet earth</td>\n",
       "      <td></td>\n",
       "    </tr>\n",
       "    <tr>\n",
       "      <th>2</th>\n",
       "      <td>5.695740e+17</td>\n",
       "      <td>negative</td>\n",
       "      <td>0.6334</td>\n",
       "      <td>longlines</td>\n",
       "      <td>0.3342</td>\n",
       "      <td>Delta</td>\n",
       "      <td></td>\n",
       "      <td>DonnellyVJ</td>\n",
       "      <td></td>\n",
       "      <td>0</td>\n",
       "      <td>@JetBlue still waiting to board and see if the...</td>\n",
       "      <td></td>\n",
       "      <td>2015-02-22 11:04:00</td>\n",
       "      <td></td>\n",
       "      <td></td>\n",
       "    </tr>\n",
       "    <tr>\n",
       "      <th>3</th>\n",
       "      <td>5.699220e+17</td>\n",
       "      <td>negative</td>\n",
       "      <td>0.6875</td>\n",
       "      <td>Bad Flight</td>\n",
       "      <td>0.6875</td>\n",
       "      <td>Delta</td>\n",
       "      <td></td>\n",
       "      <td>jsstone75</td>\n",
       "      <td></td>\n",
       "      <td>0</td>\n",
       "      <td>@JetBlue what else on this plane is duct-taped...</td>\n",
       "      <td></td>\n",
       "      <td>2015-02-23 10:09:00</td>\n",
       "      <td>nyc</td>\n",
       "      <td></td>\n",
       "    </tr>\n",
       "    <tr>\n",
       "      <th>4</th>\n",
       "      <td>5.695720e+17</td>\n",
       "      <td>negative</td>\n",
       "      <td>0.6617</td>\n",
       "      <td>Bad Flight</td>\n",
       "      <td>0.6617</td>\n",
       "      <td>Delta</td>\n",
       "      <td></td>\n",
       "      <td>DonnellyVJ</td>\n",
       "      <td></td>\n",
       "      <td>0</td>\n",
       "      <td>@JetBlue our flight out no Tv. Now our flight ...</td>\n",
       "      <td>\"[32.73346632, -117.20410937]\"</td>\n",
       "      <td>2015-02-22 10:57:00</td>\n",
       "      <td></td>\n",
       "      <td></td>\n",
       "    </tr>\n",
       "  </tbody>\n",
       "</table>\n",
       "</div>"
      ],
      "text/plain": [
       "       tweet_id airline_sentiment  airline_sentiment_confidence  \\\n",
       "0  5.695420e+17          negative                        0.6809   \n",
       "1  5.689210e+17          negative                        0.6530   \n",
       "2  5.695740e+17          negative                        0.6334   \n",
       "3  5.699220e+17          negative                        0.6875   \n",
       "4  5.695720e+17          negative                        0.6617   \n",
       "\n",
       "  negativereason  negativereason_confidence airline airline_sentiment_gold  \\\n",
       "0      longlines                     0.3511   Delta                          \n",
       "1      longlines                     0.3513   Delta                          \n",
       "2      longlines                     0.3342   Delta                          \n",
       "3     Bad Flight                     0.6875   Delta                          \n",
       "4     Bad Flight                     0.6617   Delta                          \n",
       "\n",
       "              name negativereason_gold  retweet_count  \\\n",
       "0        KShay1985                                  0   \n",
       "1  noplasticshower                                  0   \n",
       "2       DonnellyVJ                                  0   \n",
       "3        jsstone75                                  0   \n",
       "4       DonnellyVJ                                  0   \n",
       "\n",
       "                                                text  \\\n",
       "0  \"@JetBlue this is ridiculous we are on 1.5 hou...   \n",
       "1  .@JetBlue i'm sorry.  Boarding chaos is underw...   \n",
       "2  @JetBlue still waiting to board and see if the...   \n",
       "3  @JetBlue what else on this plane is duct-taped...   \n",
       "4  @JetBlue our flight out no Tv. Now our flight ...   \n",
       "\n",
       "                      tweet_coord       tweet_created       tweet_location  \\\n",
       "0                                 2015-02-22 08:59:00  \"New York City, NY\"   \n",
       "1                                 2015-02-20 15:51:00         planet earth   \n",
       "2                                 2015-02-22 11:04:00                        \n",
       "3                                 2015-02-23 10:09:00                  nyc   \n",
       "4  \"[32.73346632, -117.20410937]\" 2015-02-22 10:57:00                        \n",
       "\n",
       "  user_timezone  \n",
       "0                \n",
       "1                \n",
       "2                \n",
       "3                \n",
       "4                "
      ]
     },
     "execution_count": 1,
     "metadata": {},
     "output_type": "execute_result"
    }
   ],
   "source": [
    "import google.datalab.bigquery as bq\n",
    "import pandas as pd\n",
    "airline = bq.Query('SELECT * FROM `mk672.sentiment`')\n",
    "df = airline.execute(output_options=bq.QueryOutput.dataframe()).result()\n",
    "df.head(5)"
   ]
  },
  {
   "cell_type": "code",
   "execution_count": 2,
   "metadata": {},
   "outputs": [],
   "source": [
    "positive = df['airline_sentiment'].str.contains(\"positive\")\n",
    "negative = df['airline_sentiment'].str.contains(\"negative\")\n",
    "neutral = df['airline_sentiment'].str.contains(\"neutral\")"
   ]
  },
  {
   "cell_type": "code",
   "execution_count": 3,
   "metadata": {},
   "outputs": [
    {
     "data": {
      "text/plain": [
       "(2354, 15)"
      ]
     },
     "execution_count": 3,
     "metadata": {},
     "output_type": "execute_result"
    }
   ],
   "source": [
    "positive_tweets = df[positive]\n",
    "positive_tweets.shape"
   ]
  },
  {
   "cell_type": "code",
   "execution_count": 4,
   "metadata": {},
   "outputs": [
    {
     "data": {
      "text/plain": [
       "(9159, 15)"
      ]
     },
     "execution_count": 4,
     "metadata": {},
     "output_type": "execute_result"
    }
   ],
   "source": [
    "negative_tweets = df[negative]\n",
    "negative_tweets.shape"
   ]
  },
  {
   "cell_type": "code",
   "execution_count": 5,
   "metadata": {},
   "outputs": [
    {
     "data": {
      "text/plain": [
       "(3091, 15)"
      ]
     },
     "execution_count": 5,
     "metadata": {},
     "output_type": "execute_result"
    }
   ],
   "source": [
    "neutral_tweets = df[neutral]\n",
    "neutral_tweets.shape"
   ]
  },
  {
   "cell_type": "code",
   "execution_count": 6,
   "metadata": {},
   "outputs": [
    {
     "data": {
      "text/html": [
       "<div>\n",
       "<style scoped>\n",
       "    .dataframe tbody tr th:only-of-type {\n",
       "        vertical-align: middle;\n",
       "    }\n",
       "\n",
       "    .dataframe tbody tr th {\n",
       "        vertical-align: top;\n",
       "    }\n",
       "\n",
       "    .dataframe thead th {\n",
       "        text-align: right;\n",
       "    }\n",
       "</style>\n",
       "<table border=\"1\" class=\"dataframe\">\n",
       "  <thead>\n",
       "    <tr style=\"text-align: right;\">\n",
       "      <th></th>\n",
       "      <th>airline</th>\n",
       "      <th>airline_sentiment_confidence</th>\n",
       "      <th>negativereason</th>\n",
       "    </tr>\n",
       "  </thead>\n",
       "  <tbody>\n",
       "    <tr>\n",
       "      <th>0</th>\n",
       "      <td>Delta</td>\n",
       "      <td>0.6809</td>\n",
       "      <td>longlines</td>\n",
       "    </tr>\n",
       "    <tr>\n",
       "      <th>1</th>\n",
       "      <td>Delta</td>\n",
       "      <td>0.6530</td>\n",
       "      <td>longlines</td>\n",
       "    </tr>\n",
       "    <tr>\n",
       "      <th>2</th>\n",
       "      <td>Delta</td>\n",
       "      <td>0.6334</td>\n",
       "      <td>longlines</td>\n",
       "    </tr>\n",
       "    <tr>\n",
       "      <th>3</th>\n",
       "      <td>Delta</td>\n",
       "      <td>0.6875</td>\n",
       "      <td>Bad Flight</td>\n",
       "    </tr>\n",
       "    <tr>\n",
       "      <th>4</th>\n",
       "      <td>Delta</td>\n",
       "      <td>0.6617</td>\n",
       "      <td>Bad Flight</td>\n",
       "    </tr>\n",
       "    <tr>\n",
       "      <th>5</th>\n",
       "      <td>Delta</td>\n",
       "      <td>1.0000</td>\n",
       "      <td>Bad Flight</td>\n",
       "    </tr>\n",
       "    <tr>\n",
       "      <th>6</th>\n",
       "      <td>Delta</td>\n",
       "      <td>1.0000</td>\n",
       "      <td>Bad Flight</td>\n",
       "    </tr>\n",
       "    <tr>\n",
       "      <th>7</th>\n",
       "      <td>Delta</td>\n",
       "      <td>1.0000</td>\n",
       "      <td>Bad Flight</td>\n",
       "    </tr>\n",
       "    <tr>\n",
       "      <th>8</th>\n",
       "      <td>Delta</td>\n",
       "      <td>0.3730</td>\n",
       "      <td>Bad Flight</td>\n",
       "    </tr>\n",
       "    <tr>\n",
       "      <th>9</th>\n",
       "      <td>Delta</td>\n",
       "      <td>0.6421</td>\n",
       "      <td>Bad Flight</td>\n",
       "    </tr>\n",
       "    <tr>\n",
       "      <th>10</th>\n",
       "      <td>Delta</td>\n",
       "      <td>1.0000</td>\n",
       "      <td>Bad Flight</td>\n",
       "    </tr>\n",
       "    <tr>\n",
       "      <th>11</th>\n",
       "      <td>Delta</td>\n",
       "      <td>1.0000</td>\n",
       "      <td>Bad Flight</td>\n",
       "    </tr>\n",
       "    <tr>\n",
       "      <th>12</th>\n",
       "      <td>Delta</td>\n",
       "      <td>1.0000</td>\n",
       "      <td>Bad Flight</td>\n",
       "    </tr>\n",
       "    <tr>\n",
       "      <th>13</th>\n",
       "      <td>Delta</td>\n",
       "      <td>0.6838</td>\n",
       "      <td>Bad Flight</td>\n",
       "    </tr>\n",
       "    <tr>\n",
       "      <th>14</th>\n",
       "      <td>Delta</td>\n",
       "      <td>0.7024</td>\n",
       "      <td>Bad Flight</td>\n",
       "    </tr>\n",
       "    <tr>\n",
       "      <th>15</th>\n",
       "      <td>Delta</td>\n",
       "      <td>0.6477</td>\n",
       "      <td>Can't Tell</td>\n",
       "    </tr>\n",
       "    <tr>\n",
       "      <th>16</th>\n",
       "      <td>Delta</td>\n",
       "      <td>0.6591</td>\n",
       "      <td>Can't Tell</td>\n",
       "    </tr>\n",
       "    <tr>\n",
       "      <th>17</th>\n",
       "      <td>Delta</td>\n",
       "      <td>0.7991</td>\n",
       "      <td>Can't Tell</td>\n",
       "    </tr>\n",
       "    <tr>\n",
       "      <th>18</th>\n",
       "      <td>Delta</td>\n",
       "      <td>0.6721</td>\n",
       "      <td>Can't Tell</td>\n",
       "    </tr>\n",
       "    <tr>\n",
       "      <th>19</th>\n",
       "      <td>Delta</td>\n",
       "      <td>1.0000</td>\n",
       "      <td>Can't Tell</td>\n",
       "    </tr>\n",
       "  </tbody>\n",
       "</table>\n",
       "</div>"
      ],
      "text/plain": [
       "   airline  airline_sentiment_confidence negativereason\n",
       "0    Delta                        0.6809      longlines\n",
       "1    Delta                        0.6530      longlines\n",
       "2    Delta                        0.6334      longlines\n",
       "3    Delta                        0.6875     Bad Flight\n",
       "4    Delta                        0.6617     Bad Flight\n",
       "5    Delta                        1.0000     Bad Flight\n",
       "6    Delta                        1.0000     Bad Flight\n",
       "7    Delta                        1.0000     Bad Flight\n",
       "8    Delta                        0.3730     Bad Flight\n",
       "9    Delta                        0.6421     Bad Flight\n",
       "10   Delta                        1.0000     Bad Flight\n",
       "11   Delta                        1.0000     Bad Flight\n",
       "12   Delta                        1.0000     Bad Flight\n",
       "13   Delta                        0.6838     Bad Flight\n",
       "14   Delta                        0.7024     Bad Flight\n",
       "15   Delta                        0.6477     Can't Tell\n",
       "16   Delta                        0.6591     Can't Tell\n",
       "17   Delta                        0.7991     Can't Tell\n",
       "18   Delta                        0.6721     Can't Tell\n",
       "19   Delta                        1.0000     Can't Tell"
      ]
     },
     "execution_count": 6,
     "metadata": {},
     "output_type": "execute_result"
    }
   ],
   "source": [
    "airline_by_negativity = negative_tweets[['airline','airline_sentiment_confidence','negativereason']]\n",
    "airline_by_negativity.head(20)"
   ]
  },
  {
   "cell_type": "code",
   "execution_count": 7,
   "metadata": {},
   "outputs": [
    {
     "data": {
      "text/html": [
       "<div>\n",
       "<style scoped>\n",
       "    .dataframe tbody tr th:only-of-type {\n",
       "        vertical-align: middle;\n",
       "    }\n",
       "\n",
       "    .dataframe tbody tr th {\n",
       "        vertical-align: top;\n",
       "    }\n",
       "\n",
       "    .dataframe thead th {\n",
       "        text-align: right;\n",
       "    }\n",
       "</style>\n",
       "<table border=\"1\" class=\"dataframe\">\n",
       "  <thead>\n",
       "    <tr style=\"text-align: right;\">\n",
       "      <th></th>\n",
       "      <th>airline</th>\n",
       "      <th>airline_sentiment_confidence</th>\n",
       "      <th>negativereason</th>\n",
       "    </tr>\n",
       "  </thead>\n",
       "  <tbody>\n",
       "    <tr>\n",
       "      <th>4</th>\n",
       "      <td>United</td>\n",
       "      <td>2633</td>\n",
       "      <td>2633</td>\n",
       "    </tr>\n",
       "    <tr>\n",
       "      <th>3</th>\n",
       "      <td>US Airways</td>\n",
       "      <td>2263</td>\n",
       "      <td>2263</td>\n",
       "    </tr>\n",
       "    <tr>\n",
       "      <th>0</th>\n",
       "      <td>American</td>\n",
       "      <td>1941</td>\n",
       "      <td>1941</td>\n",
       "    </tr>\n",
       "    <tr>\n",
       "      <th>2</th>\n",
       "      <td>Southwest</td>\n",
       "      <td>1186</td>\n",
       "      <td>1186</td>\n",
       "    </tr>\n",
       "    <tr>\n",
       "      <th>1</th>\n",
       "      <td>Delta</td>\n",
       "      <td>955</td>\n",
       "      <td>955</td>\n",
       "    </tr>\n",
       "    <tr>\n",
       "      <th>5</th>\n",
       "      <td>Virgin America</td>\n",
       "      <td>181</td>\n",
       "      <td>181</td>\n",
       "    </tr>\n",
       "  </tbody>\n",
       "</table>\n",
       "</div>"
      ],
      "text/plain": [
       "          airline  airline_sentiment_confidence  negativereason\n",
       "4          United                          2633            2633\n",
       "3      US Airways                          2263            2263\n",
       "0        American                          1941            1941\n",
       "2       Southwest                          1186            1186\n",
       "1           Delta                           955             955\n",
       "5  Virgin America                           181             181"
      ]
     },
     "execution_count": 7,
     "metadata": {},
     "output_type": "execute_result"
    }
   ],
   "source": [
    "#Worst Airline by negativity\n",
    "top_worst_airline = airline_by_negativity.groupby('airline', as_index=False).count()\n",
    "top_worst_airline.sort_values('negativereason', ascending=False)"
   ]
  },
  {
   "cell_type": "code",
   "execution_count": 8,
   "metadata": {},
   "outputs": [
    {
     "data": {
      "text/html": [
       "<div>\n",
       "<style scoped>\n",
       "    .dataframe tbody tr th:only-of-type {\n",
       "        vertical-align: middle;\n",
       "    }\n",
       "\n",
       "    .dataframe tbody tr th {\n",
       "        vertical-align: top;\n",
       "    }\n",
       "\n",
       "    .dataframe thead th {\n",
       "        text-align: right;\n",
       "    }\n",
       "</style>\n",
       "<table border=\"1\" class=\"dataframe\">\n",
       "  <thead>\n",
       "    <tr style=\"text-align: right;\">\n",
       "      <th></th>\n",
       "      <th>airline</th>\n",
       "      <th>airline_sentiment_confidence</th>\n",
       "    </tr>\n",
       "  </thead>\n",
       "  <tbody>\n",
       "    <tr>\n",
       "      <th>2</th>\n",
       "      <td>Southwest</td>\n",
       "      <td>570</td>\n",
       "    </tr>\n",
       "    <tr>\n",
       "      <th>1</th>\n",
       "      <td>Delta</td>\n",
       "      <td>544</td>\n",
       "    </tr>\n",
       "    <tr>\n",
       "      <th>4</th>\n",
       "      <td>United</td>\n",
       "      <td>492</td>\n",
       "    </tr>\n",
       "    <tr>\n",
       "      <th>0</th>\n",
       "      <td>American</td>\n",
       "      <td>327</td>\n",
       "    </tr>\n",
       "    <tr>\n",
       "      <th>3</th>\n",
       "      <td>US Airways</td>\n",
       "      <td>269</td>\n",
       "    </tr>\n",
       "    <tr>\n",
       "      <th>5</th>\n",
       "      <td>Virgin America</td>\n",
       "      <td>152</td>\n",
       "    </tr>\n",
       "  </tbody>\n",
       "</table>\n",
       "</div>"
      ],
      "text/plain": [
       "          airline  airline_sentiment_confidence\n",
       "2       Southwest                           570\n",
       "1           Delta                           544\n",
       "4          United                           492\n",
       "0        American                           327\n",
       "3      US Airways                           269\n",
       "5  Virgin America                           152"
      ]
     },
     "execution_count": 8,
     "metadata": {},
     "output_type": "execute_result"
    }
   ],
   "source": [
    "airline_by_postivity = positive_tweets[['airline','airline_sentiment_confidence']]\n",
    "top_best_airline = airline_by_postivity.groupby('airline', as_index=False).count()\n",
    "top_best_airline.sort_values('airline_sentiment_confidence', ascending=False)"
   ]
  },
  {
   "cell_type": "code",
   "execution_count": 9,
   "metadata": {},
   "outputs": [
    {
     "data": {
      "text/html": [
       "<div>\n",
       "<style scoped>\n",
       "    .dataframe tbody tr th:only-of-type {\n",
       "        vertical-align: middle;\n",
       "    }\n",
       "\n",
       "    .dataframe tbody tr th {\n",
       "        vertical-align: top;\n",
       "    }\n",
       "\n",
       "    .dataframe thead th {\n",
       "        text-align: right;\n",
       "    }\n",
       "</style>\n",
       "<table border=\"1\" class=\"dataframe\">\n",
       "  <thead>\n",
       "    <tr style=\"text-align: right;\">\n",
       "      <th></th>\n",
       "      <th>negativereason</th>\n",
       "      <th>airline</th>\n",
       "    </tr>\n",
       "  </thead>\n",
       "  <tbody>\n",
       "    <tr>\n",
       "      <th>9</th>\n",
       "      <td>longlines</td>\n",
       "      <td>178</td>\n",
       "    </tr>\n",
       "    <tr>\n",
       "      <th>8</th>\n",
       "      <td>Lost Luggage</td>\n",
       "      <td>721</td>\n",
       "    </tr>\n",
       "    <tr>\n",
       "      <th>7</th>\n",
       "      <td>Late Flight</td>\n",
       "      <td>1660</td>\n",
       "    </tr>\n",
       "    <tr>\n",
       "      <th>6</th>\n",
       "      <td>Flight Booking Problems</td>\n",
       "      <td>529</td>\n",
       "    </tr>\n",
       "    <tr>\n",
       "      <th>5</th>\n",
       "      <td>Flight Attendant Complaints</td>\n",
       "      <td>480</td>\n",
       "    </tr>\n",
       "    <tr>\n",
       "      <th>4</th>\n",
       "      <td>Damaged Luggage</td>\n",
       "      <td>74</td>\n",
       "    </tr>\n",
       "    <tr>\n",
       "      <th>3</th>\n",
       "      <td>Customer Service Issue</td>\n",
       "      <td>2904</td>\n",
       "    </tr>\n",
       "    <tr>\n",
       "      <th>2</th>\n",
       "      <td>Cancelled Flight</td>\n",
       "      <td>843</td>\n",
       "    </tr>\n",
       "    <tr>\n",
       "      <th>1</th>\n",
       "      <td>Can't Tell</td>\n",
       "      <td>1190</td>\n",
       "    </tr>\n",
       "    <tr>\n",
       "      <th>0</th>\n",
       "      <td>Bad Flight</td>\n",
       "      <td>580</td>\n",
       "    </tr>\n",
       "  </tbody>\n",
       "</table>\n",
       "</div>"
      ],
      "text/plain": [
       "                negativereason  airline\n",
       "9                    longlines      178\n",
       "8                 Lost Luggage      721\n",
       "7                  Late Flight     1660\n",
       "6      Flight Booking Problems      529\n",
       "5  Flight Attendant Complaints      480\n",
       "4              Damaged Luggage       74\n",
       "3       Customer Service Issue     2904\n",
       "2             Cancelled Flight      843\n",
       "1                   Can't Tell     1190\n",
       "0                   Bad Flight      580"
      ]
     },
     "execution_count": 9,
     "metadata": {},
     "output_type": "execute_result"
    }
   ],
   "source": [
    "motivation_for_negativity = negative_tweets[['airline','negativereason']]\n",
    "motivation_for_negativity_count = motivation_for_negativity.groupby('negativereason', as_index=False).count()\n",
    "motivation_for_negativity_count.sort_values('negativereason', ascending=False)"
   ]
  },
  {
   "cell_type": "code",
   "execution_count": 10,
   "metadata": {},
   "outputs": [
    {
     "data": {
      "text/plain": [
       "United            3822\n",
       "US Airways        2913\n",
       "American          2723\n",
       "Southwest         2420\n",
       "Delta             2222\n",
       "Virgin America     504\n",
       "Name: airline, dtype: int64"
      ]
     },
     "execution_count": 10,
     "metadata": {},
     "output_type": "execute_result"
    }
   ],
   "source": [
    "df.airline.value_counts()"
   ]
  },
  {
   "cell_type": "code",
   "execution_count": 11,
   "metadata": {},
   "outputs": [
    {
     "data": {
      "text/plain": [
       "<matplotlib.axes._subplots.AxesSubplot at 0x7fd82806d590>"
      ]
     },
     "execution_count": 11,
     "metadata": {},
     "output_type": "execute_result"
    },
    {
     "name": "stderr",
     "output_type": "stream",
     "text": [
      "/usr/local/envs/py2env/lib/python2.7/site-packages/matplotlib/font_manager.py:1320: UserWarning: findfont: Font family [u'sans-serif'] not found. Falling back to DejaVu Sans\n",
      "  (prop.get_family(), self.defaultFamily[fontext]))\n"
     ]
    },
    {
     "data": {
      "image/png": "[encoded data removed]",
      "text/plain": [
       "<matplotlib.figure.Figure at 0x7fd8329ff210>"
      ]
     },
     "metadata": {},
     "output_type": "display_data"
    }
   ],
   "source": [
    "import matplotlib.pyplot as plt\n",
    "import seaborn as sns\n",
    "%matplotlib inline\n",
    "plt.style.use('ggplot')\n",
    "colors=sns.color_palette(\"hls\", 10) \n",
    "pd.Series(df[\"airline\"]).value_counts().plot(kind = \"bar\",color=colors,figsize=(8,6),fontsize=10,rot = 0, title = \"Airline\")"
   ]
  },
  {
   "cell_type": "code",
   "execution_count": 12,
   "metadata": {},
   "outputs": [
    {
     "data": {
      "text/plain": [
       "negative    9159\n",
       "neutral     3091\n",
       "positive    2354\n",
       "Name: airline_sentiment, dtype: int64"
      ]
     },
     "execution_count": 12,
     "metadata": {},
     "output_type": "execute_result"
    }
   ],
   "source": [
    "df.airline_sentiment.value_counts()"
   ]
  },
  {
   "cell_type": "code",
   "execution_count": 19,
   "metadata": {},
   "outputs": [
    {
     "data": {
      "text/plain": [
       "<matplotlib.axes._subplots.AxesSubplot at 0x7f2fb57fcb50>"
      ]
     },
     "execution_count": 19,
     "metadata": {},
     "output_type": "execute_result"
    },
    {
     "data": {
      "image/png": "[encoded data removed]",
      "text/plain": [
       "<matplotlib.figure.Figure at 0x7f2fb5987fd0>"
      ]
     },
     "metadata": {},
     "output_type": "display_data"
    }
   ],
   "source": [
    "colors=sns.color_palette(\"hls\", 10)\n",
    "pd.Series(df[\"airline_sentiment\"]).value_counts().plot(kind = \"bar\",color=colors,figsize=(8,6),rot=0, title = \"Total_Airline_Sentiment\")"
   ]
  },
  {
   "cell_type": "code",
   "execution_count": 20,
   "metadata": {},
   "outputs": [
    {
     "data": {
      "text/plain": [
       "<matplotlib.axes._subplots.AxesSubplot at 0x7f2fbedec310>"
      ]
     },
     "execution_count": 20,
     "metadata": {},
     "output_type": "execute_result"
    },
    {
     "data": {
      "image/png": "[encoded data removed]",
      "text/plain": [
       "<matplotlib.figure.Figure at 0x7f2fbf5812d0>"
      ]
     },
     "metadata": {},
     "output_type": "display_data"
    }
   ],
   "source": [
    "colors=sns.color_palette(\"hls\", 10)\n",
    "pd.Series(df[\"airline_sentiment\"]).value_counts().plot(kind=\"pie\",colors=colors,labels=[\"negative\", \"neutral\", \"positive\"],explode=[0.05,0.02,0.04],shadow=True,autopct='%.2f', fontsize=12,figsize=(6, 6),title = \"Total_Airline_Sentiment\")"
   ]
  },
  {
   "cell_type": "code",
   "execution_count": 13,
   "metadata": {},
   "outputs": [
    {
     "data": {
      "text/plain": [
       "                               5445\n",
       "Customer Service Issue         2904\n",
       "Late Flight                    1660\n",
       "Can't Tell                     1190\n",
       "Cancelled Flight                843\n",
       "Lost Luggage                    721\n",
       "Bad Flight                      580\n",
       "Flight Booking Problems         529\n",
       "Flight Attendant Complaints     480\n",
       "longlines                       178\n",
       "Damaged Luggage                  74\n",
       "Name: negativereason, dtype: int64"
      ]
     },
     "execution_count": 13,
     "metadata": {},
     "output_type": "execute_result"
    }
   ],
   "source": [
    "df.negativereason.value_counts()"
   ]
  },
  {
   "cell_type": "code",
   "execution_count": 21,
   "metadata": {},
   "outputs": [
    {
     "data": {
      "text/plain": [
       "<matplotlib.axes._subplots.AxesSubplot at 0x7f2fbebc92d0>"
      ]
     },
     "execution_count": 21,
     "metadata": {},
     "output_type": "execute_result"
    },
    {
     "data": {
      "image/png": "[encoded data removed]",
      "text/plain": [
       "<matplotlib.figure.Figure at 0x7f2fbf43fe50>"
      ]
     },
     "metadata": {},
     "output_type": "display_data"
    }
   ],
   "source": [
    "colors=sns.color_palette(\"GnBu_d\", 10) \n",
    "pd.Series(df[\"negativereason\"]).value_counts().plot(kind = \"barh\",color=colors,figsize=(8,6),title = \"Negative_Reasons\")"
   ]
  },
  {
   "cell_type": "code",
   "execution_count": 14,
   "metadata": {},
   "outputs": [
    {
     "data": {
      "text/plain": [
       "                               5445\n",
       "Customer Service Issue         2904\n",
       "Late Flight                    1660\n",
       "Can't Tell                     1190\n",
       "Cancelled Flight                843\n",
       "Lost Luggage                    721\n",
       "Bad Flight                      580\n",
       "Flight Booking Problems         529\n",
       "Flight Attendant Complaints     480\n",
       "longlines                       178\n",
       "Name: negativereason, dtype: int64"
      ]
     },
     "execution_count": 14,
     "metadata": {},
     "output_type": "execute_result"
    }
   ],
   "source": [
    "df.negativereason.value_counts().head(10)"
   ]
  },
  {
   "cell_type": "code",
   "execution_count": 22,
   "metadata": {},
   "outputs": [
    {
     "data": {
      "text/plain": [
       "<matplotlib.axes._subplots.AxesSubplot at 0x7f2fb4e6f750>"
      ]
     },
     "execution_count": 22,
     "metadata": {},
     "output_type": "execute_result"
    },
    {
     "data": {
      "image/png": "[encoded data removed]",
      "text/plain": [
       "<matplotlib.figure.Figure at 0x7f2fb5644910>"
      ]
     },
     "metadata": {},
     "output_type": "display_data"
    }
   ],
   "source": [
    "pd.Series(df[\"negativereason\"]).value_counts().head(5).plot(kind=\"pie\",labels=[\"Customer Service Issue\", \"Late Flight\", \"Can't Tell\",\"Cancelled Flight\",\"Lost Luggage\"], colors=['r', 'g', 'b','c','y'],autopct='%.2f',explode=[0.05,0,0.02,0.03,0.04],shadow=True, fontsize=12,figsize=(6, 6),title=\"Negative Reasons\")"
   ]
  },
  {
   "cell_type": "code",
   "execution_count": 16,
   "metadata": {},
   "outputs": [
    {
     "data": {
      "text/plain": [
       "                     4723\n",
       "\"Boston, MA\"          157\n",
       "\"New York, NY\"        156\n",
       "\"Washington, DC\"      148\n",
       "New York              127\n",
       "USA                   125\n",
       "Chicago               104\n",
       "New York City          96\n",
       "\"Los Angeles, CA\"      96\n",
       "NYC                    95\n",
       "Name: tweet_location, dtype: int64"
      ]
     },
     "execution_count": 16,
     "metadata": {},
     "output_type": "execute_result"
    }
   ],
   "source": [
    "df.tweet_location.value_counts().head(10)"
   ]
  },
  {
   "cell_type": "code",
   "execution_count": 19,
   "metadata": {},
   "outputs": [
    {
     "data": {
      "text/plain": [
       "                               4814\n",
       "Eastern Time (US & Canada)     3738\n",
       "Central Time (US & Canada)     1923\n",
       "Pacific Time (US & Canada)     1206\n",
       "Quito                           733\n",
       "Atlantic Time (Canada)          496\n",
       "Mountain Time (US & Canada)     366\n",
       "Arizona                         228\n",
       "London                          193\n",
       "Alaska                          108\n",
       "Name: user_timezone, dtype: int64"
      ]
     },
     "execution_count": 19,
     "metadata": {},
     "output_type": "execute_result"
    }
   ],
   "source": [
    "df.user_timezone.value_counts().head(10)"
   ]
  },
  {
   "cell_type": "code",
   "execution_count": 23,
   "metadata": {},
   "outputs": [
    {
     "data": {
      "text/plain": [
       "<matplotlib.axes._subplots.AxesSubplot at 0x7f2fbeff7550>"
      ]
     },
     "execution_count": 23,
     "metadata": {},
     "output_type": "execute_result"
    },
    {
     "data": {
      "image/png": "[encoded data removed]",
      "text/plain": [
       "<matplotlib.figure.Figure at 0x7f2fb4e2db10>"
      ]
     },
     "metadata": {},
     "output_type": "display_data"
    }
   ],
   "source": [
    "pd.crosstab(index = df[\"airline\"],columns = df[\"airline_sentiment\"]).plot(kind='bar',figsize=(10, 6),alpha=0.5,rot=0,stacked=True,title=\"Airline_Sentiment\")"
   ]
  },
  {
   "cell_type": "code",
   "execution_count": 20,
   "metadata": {},
   "outputs": [
    {
     "data": {
      "text/html": [
       "<div>\n",
       "<style scoped>\n",
       "    .dataframe tbody tr th:only-of-type {\n",
       "        vertical-align: middle;\n",
       "    }\n",
       "\n",
       "    .dataframe tbody tr th {\n",
       "        vertical-align: top;\n",
       "    }\n",
       "\n",
       "    .dataframe thead th {\n",
       "        text-align: right;\n",
       "    }\n",
       "</style>\n",
       "<table border=\"1\" class=\"dataframe\">\n",
       "  <thead>\n",
       "    <tr style=\"text-align: right;\">\n",
       "      <th>airline_sentiment</th>\n",
       "      <th>negative</th>\n",
       "      <th>neutral</th>\n",
       "      <th>positive</th>\n",
       "    </tr>\n",
       "    <tr>\n",
       "      <th>airline</th>\n",
       "      <th></th>\n",
       "      <th></th>\n",
       "      <th></th>\n",
       "    </tr>\n",
       "  </thead>\n",
       "  <tbody>\n",
       "    <tr>\n",
       "      <th>American</th>\n",
       "      <td>1941</td>\n",
       "      <td>455</td>\n",
       "      <td>327</td>\n",
       "    </tr>\n",
       "    <tr>\n",
       "      <th>Delta</th>\n",
       "      <td>955</td>\n",
       "      <td>723</td>\n",
       "      <td>544</td>\n",
       "    </tr>\n",
       "    <tr>\n",
       "      <th>Southwest</th>\n",
       "      <td>1186</td>\n",
       "      <td>664</td>\n",
       "      <td>570</td>\n",
       "    </tr>\n",
       "    <tr>\n",
       "      <th>US Airways</th>\n",
       "      <td>2263</td>\n",
       "      <td>381</td>\n",
       "      <td>269</td>\n",
       "    </tr>\n",
       "    <tr>\n",
       "      <th>United</th>\n",
       "      <td>2633</td>\n",
       "      <td>697</td>\n",
       "      <td>492</td>\n",
       "    </tr>\n",
       "    <tr>\n",
       "      <th>Virgin America</th>\n",
       "      <td>181</td>\n",
       "      <td>171</td>\n",
       "      <td>152</td>\n",
       "    </tr>\n",
       "  </tbody>\n",
       "</table>\n",
       "</div>"
      ],
      "text/plain": [
       "airline_sentiment  negative  neutral  positive\n",
       "airline                                       \n",
       "American               1941      455       327\n",
       "Delta                   955      723       544\n",
       "Southwest              1186      664       570\n",
       "US Airways             2263      381       269\n",
       "United                 2633      697       492\n",
       "Virgin America          181      171       152"
      ]
     },
     "execution_count": 20,
     "metadata": {},
     "output_type": "execute_result"
    }
   ],
   "source": [
    "air_sentiment=pd.crosstab(df.airline, df.airline_sentiment)\n",
    "air_sentiment"
   ]
  },
  {
   "cell_type": "code",
   "execution_count": 21,
   "metadata": {},
   "outputs": [
    {
     "data": {
      "text/html": [
       "<div>\n",
       "<style scoped>\n",
       "    .dataframe tbody tr th:only-of-type {\n",
       "        vertical-align: middle;\n",
       "    }\n",
       "\n",
       "    .dataframe tbody tr th {\n",
       "        vertical-align: top;\n",
       "    }\n",
       "\n",
       "    .dataframe thead th {\n",
       "        text-align: right;\n",
       "    }\n",
       "</style>\n",
       "<table border=\"1\" class=\"dataframe\">\n",
       "  <thead>\n",
       "    <tr style=\"text-align: right;\">\n",
       "      <th>airline_sentiment</th>\n",
       "      <th>negative</th>\n",
       "      <th>neutral</th>\n",
       "      <th>positive</th>\n",
       "    </tr>\n",
       "    <tr>\n",
       "      <th>airline</th>\n",
       "      <th></th>\n",
       "      <th></th>\n",
       "      <th></th>\n",
       "    </tr>\n",
       "  </thead>\n",
       "  <tbody>\n",
       "    <tr>\n",
       "      <th>American</th>\n",
       "      <td>71.281675</td>\n",
       "      <td>16.709512</td>\n",
       "      <td>12.008814</td>\n",
       "    </tr>\n",
       "    <tr>\n",
       "      <th>Delta</th>\n",
       "      <td>42.979298</td>\n",
       "      <td>32.538254</td>\n",
       "      <td>24.482448</td>\n",
       "    </tr>\n",
       "    <tr>\n",
       "      <th>Southwest</th>\n",
       "      <td>49.008264</td>\n",
       "      <td>27.438017</td>\n",
       "      <td>23.553719</td>\n",
       "    </tr>\n",
       "    <tr>\n",
       "      <th>US Airways</th>\n",
       "      <td>77.686234</td>\n",
       "      <td>13.079300</td>\n",
       "      <td>9.234466</td>\n",
       "    </tr>\n",
       "    <tr>\n",
       "      <th>United</th>\n",
       "      <td>68.890633</td>\n",
       "      <td>18.236525</td>\n",
       "      <td>12.872841</td>\n",
       "    </tr>\n",
       "    <tr>\n",
       "      <th>Virgin America</th>\n",
       "      <td>35.912698</td>\n",
       "      <td>33.928571</td>\n",
       "      <td>30.158730</td>\n",
       "    </tr>\n",
       "  </tbody>\n",
       "</table>\n",
       "</div>"
      ],
      "text/plain": [
       "airline_sentiment   negative    neutral   positive\n",
       "airline                                           \n",
       "American           71.281675  16.709512  12.008814\n",
       "Delta              42.979298  32.538254  24.482448\n",
       "Southwest          49.008264  27.438017  23.553719\n",
       "US Airways         77.686234  13.079300   9.234466\n",
       "United             68.890633  18.236525  12.872841\n",
       "Virgin America     35.912698  33.928571  30.158730"
      ]
     },
     "execution_count": 21,
     "metadata": {},
     "output_type": "execute_result"
    }
   ],
   "source": [
    "percentage=air_sentiment.apply(lambda a: a / a.sum() * 100, axis=1)\n",
    "percentage"
   ]
  },
  {
   "cell_type": "code",
   "execution_count": 24,
   "metadata": {},
   "outputs": [
    {
     "data": {
      "text/plain": [
       "<matplotlib.axes._subplots.AxesSubplot at 0x7fd830e8c7d0>"
      ]
     },
     "execution_count": 24,
     "metadata": {},
     "output_type": "execute_result"
    },
    {
     "data": {
      "image/png": "[encoded data removed]",
      "text/plain": [
       "<matplotlib.figure.Figure at 0x7fd8311f6a50>"
      ]
     },
     "metadata": {},
     "output_type": "display_data"
    }
   ],
   "source": [
    "pd.crosstab(index = df[\"airline\"],columns = df[\"airline_sentiment\"]).plot(kind='bar',figsize=(10, 6),alpha=0.5,rot=0,stacked=True,title=\"Airline_Sentiment\")"
   ]
  },
  {
   "cell_type": "code",
   "execution_count": 22,
   "metadata": {},
   "outputs": [
    {
     "data": {
      "text/plain": [
       "<matplotlib.axes._subplots.AxesSubplot at 0x7fd8236f6750>"
      ]
     },
     "execution_count": 22,
     "metadata": {},
     "output_type": "execute_result"
    },
    {
     "data": {
      "image/png": "[encoded data removed]",
      "text/plain": [
       "<matplotlib.figure.Figure at 0x7fd82372ec90>"
      ]
     },
     "metadata": {},
     "output_type": "display_data"
    }
   ],
   "source": [
    "percentage.plot(kind='bar',figsize=(10, 6),alpha=0.5,\n",
    "                rot=0,stacked=True,title=\"Airline_Sentiment_Percentage\")"
   ]
  },
  {
   "cell_type": "code",
   "execution_count": 1,
   "metadata": {},
   "outputs": [
    {
     "name": "stdout",
     "output_type": "stream",
     "text": [
      "[nltk_data] Downloading package punkt to /content/nltk_data...\n",
      "[nltk_data]   Package punkt is already up-to-date!\n",
      "[nltk_data] Downloading package stopwords to /content/nltk_data...\n",
      "[nltk_data]   Package stopwords is already up-to-date!\n"
     ]
    },
    {
     "ename": "NameError",
     "evalue": "name 'negative_tweets' is not defined",
     "output_type": "error",
     "traceback": [
      "\u001b[0;31m\u001b[0m",
      "\u001b[0;31mNameError\u001b[0mTraceback (most recent call last)",
      "\u001b[0;32m<ipython-input-1-88b90f9b395d>\u001b[0m in \u001b[0;36m<module>\u001b[0;34m()\u001b[0m\n\u001b[1;32m     24\u001b[0m \u001b[0;34m\u001b[0m\u001b[0m\n\u001b[1;32m     25\u001b[0m \u001b[0mtokenized_negative_tweets\u001b[0m \u001b[0;34m=\u001b[0m \u001b[0;34m[\u001b[0m\u001b[0;34m]\u001b[0m\u001b[0;34m\u001b[0m\u001b[0m\n\u001b[0;32m---> 26\u001b[0;31m \u001b[0;32mfor\u001b[0m \u001b[0mtext\u001b[0m \u001b[0;32min\u001b[0m \u001b[0mnegative_tweets\u001b[0m\u001b[0;34m[\u001b[0m\u001b[0;34m'text'\u001b[0m\u001b[0;34m]\u001b[0m\u001b[0;34m:\u001b[0m\u001b[0;34m\u001b[0m\u001b[0m\n\u001b[0m\u001b[1;32m     27\u001b[0m         \u001b[0mtokenized_negative_tweets\u001b[0m\u001b[0;34m.\u001b[0m\u001b[0mappend\u001b[0m\u001b[0;34m(\u001b[0m\u001b[0mnltk\u001b[0m\u001b[0;34m.\u001b[0m\u001b[0mword_tokenize\u001b[0m\u001b[0;34m(\u001b[0m\u001b[0mtext\u001b[0m\u001b[0;34m)\u001b[0m\u001b[0;34m)\u001b[0m\u001b[0;34m\u001b[0m\u001b[0m\n\u001b[1;32m     28\u001b[0m         \u001b[0;31m#negative_words.extend(nltk.word_tokenize(text))\u001b[0m\u001b[0;34m\u001b[0m\u001b[0;34m\u001b[0m\u001b[0m\n",
      "\u001b[0;31mNameError\u001b[0m: name 'negative_tweets' is not defined"
     ]
    }
   ],
   "source": [
    "import nltk\n",
    "\n",
    "\n",
    "nltk.download(\"punkt\")\n",
    "\n",
    "\n",
    "nltk.download(\"stopwords\")\n",
    "\n",
    "\n",
    "import string\n",
    "string.punctuation\n",
    "\n",
    "\n",
    "# Set the useless words:\n",
    "\n",
    "useless_words = nltk.corpus.stopwords.words(\"english\") + list(string.punctuation)\n",
    "\n",
    "\n",
    "\n",
    "def build_bag_of_words_features_filtered(words):\n",
    "    return {\n",
    "        word:1 for word in words \\\n",
    "        if not word in useless_words}\n",
    "\n",
    "tokenized_negative_tweets = []\n",
    "for text in negative_tweets['text']:\n",
    "        tokenized_negative_tweets.append(nltk.word_tokenize(text))\n",
    "        #negative_words.extend(nltk.word_tokenize(text)) \n",
    "        \n",
    "tokenized_negative_tweets\n",
    "\n",
    "\n",
    "negative_features = [\n",
    "    (build_bag_of_words_features_filtered(text), 'neg') \\\n",
    "    for text in tokenized_negative_tweets\n",
    "]\n",
    "\n",
    "\n",
    "print(negative_features)"
   ]
  },
  {
   "cell_type": "code",
   "execution_count": null,
   "metadata": {
    "collapsed": true
   },
   "outputs": [],
   "source": []
  }
 ],
 "metadata": {
  "kernelspec": {
   "display_name": "Python 3",
   "language": "python",
   "name": "python3"
  },
  "language_info": {
   "codemirror_mode": {
    "name": "ipython",
    "version": 3
   },
   "file_extension": ".py",
   "mimetype": "text/x-python",
   "name": "python",
   "nbconvert_exporter": "python",
   "pygments_lexer": "ipython3",
   "version": "3.6.4"
  }
 },
 "nbformat": 4,
 "nbformat_minor": 2
}
