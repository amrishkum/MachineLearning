{
 "cells": [
  {
   "cell_type": "markdown",
   "metadata": {},
   "source": [
    "## Name Scopes"
   ]
  },
  {
   "cell_type": "code",
   "execution_count": 1,
   "metadata": {},
   "outputs": [
    {
     "name": "stderr",
     "output_type": "stream",
     "text": [
      "C:\\Anaconda\\Anaconda3\\lib\\site-packages\\h5py\\__init__.py:34: FutureWarning: Conversion of the second argument of issubdtype from `float` to `np.floating` is deprecated. In future, it will be treated as `np.float64 == np.dtype(float).type`.\n",
      "  from ._conv import register_converters as _register_converters\n"
     ]
    }
   ],
   "source": [
    "import tensorflow as tf\n",
    "import numpy as np"
   ]
  },
  {
   "cell_type": "code",
   "execution_count": 2,
   "metadata": {
    "collapsed": true
   },
   "outputs": [],
   "source": [
    "graph = tf.Graph()"
   ]
  },
  {
   "cell_type": "code",
   "execution_count": 4,
   "metadata": {},
   "outputs": [],
   "source": [
    "with graph.as_default():\n",
    "    with tf.name_scope(\"Variables\"):\n",
    "        global_step =tf.Variable(0,dtype=tf.int32,trainable=False,name=\"global_step\")\n",
    "        total_output=tf.Variable(0.0,dtype=tf.float32,trainable=False,name=\"total_output\")\n",
    "        \n",
    "    with tf.name_scope(\"transformation\"):\n",
    "        with tf.name_scope(\"input\"):\n",
    "            a=tf.placeholder(tf.float32,shape=[None],name=\"input_placeholder_a\")\n",
    "            \n",
    "        with tf.name_scope(\"intermediate_layer\"):\n",
    "            b=tf.reduce_prod(a,name=\"product_b\")\n",
    "            c=tf.reduce_sum(a,name=\"sum_c\")\n",
    "        \n",
    "        with tf.name_scope(\"output\"):\n",
    "            output=tf.add(b,c,name=\"output\")\n",
    "    with tf.name_scope(\"update\"):\n",
    "        #Incrementsthetotal_output Variable bythe latestoutput\n",
    "        update_total=total_output.assign_add(output)\n",
    "        # Increments this variable for every run of graph\n",
    "        increment_step = global_step.assign_add(1)\n",
    "    with tf.name_scope(\"summaries\"):\n",
    "        avg=tf.div(update_total,tf.cast(increment_step,tf.float32),name=\"average\")\n",
    "        #Creates summaries for output node\n",
    "        tf.summary.scalar('Output',output)\n",
    "        tf.summary.scalar(\"total_summary\",update_total)\n",
    "        tf.summary.scalar('Average_Summary',avg)\n",
    "    with tf.name_scope('ops'):\n",
    "        init = tf.global_variables_initializer()\n",
    "        merged_summaries = tf.summary.merge_all()\n"
   ]
  },
  {
   "cell_type": "code",
   "execution_count": 5,
   "metadata": {
    "collapsed": true
   },
   "outputs": [],
   "source": [
    "sess = tf.Session(graph=graph)\n",
    "writer=tf.summary.FileWriter('./graphv1',\tgraph=graph)"
   ]
  },
  {
   "cell_type": "code",
   "execution_count": 6,
   "metadata": {
    "collapsed": true
   },
   "outputs": [],
   "source": [
    "sess.run(init)"
   ]
  },
  {
   "cell_type": "code",
   "execution_count": 7,
   "metadata": {},
   "outputs": [
    {
     "data": {
      "text/plain": [
       "<tf.Operation 'ops/init' type=NoOp>"
      ]
     },
     "execution_count": 7,
     "metadata": {},
     "output_type": "execute_result"
    }
   ],
   "source": [
    "init"
   ]
  },
  {
   "cell_type": "code",
   "execution_count": 8,
   "metadata": {},
   "outputs": [],
   "source": [
    "def run_graph(input_tensor):\n",
    "    input_tensor = np.asarray(input_tensor)\n",
    "    print (input_tensor)\n",
    "    feed_dict ={a:input_tensor}\n",
    "    print (feed_dict)\n",
    "    _,step,summary=sess.run([output,increment_step,merged_summaries],feed_dict=feed_dict)\n",
    "    writer.add_summary(summary,global_step=step)"
   ]
  },
  {
   "cell_type": "code",
   "execution_count": 9,
   "metadata": {},
   "outputs": [
    {
     "name": "stdout",
     "output_type": "stream",
     "text": [
      "[2. 3.]\n",
      "{<tf.Tensor 'transformation/input/input_placeholder_a:0' shape=(?,) dtype=float32>: array([2., 3.])}\n",
      "[3 4]\n",
      "{<tf.Tensor 'transformation/input/input_placeholder_a:0' shape=(?,) dtype=float32>: array([3, 4])}\n",
      "[2 2]\n",
      "{<tf.Tensor 'transformation/input/input_placeholder_a:0' shape=(?,) dtype=float32>: array([2, 2])}\n",
      "[2 3]\n",
      "{<tf.Tensor 'transformation/input/input_placeholder_a:0' shape=(?,) dtype=float32>: array([2, 3])}\n"
     ]
    }
   ],
   "source": [
    "run_graph([2.0,3.0])\n",
    "run_graph([3,4])\n",
    "run_graph([2,2])\n",
    "run_graph([2,3])\n"
   ]
  },
  {
   "cell_type": "code",
   "execution_count": 10,
   "metadata": {
    "collapsed": true
   },
   "outputs": [],
   "source": [
    "writer.flush()\n",
    "writer.close()\n",
    "sess.close()"
   ]
  },
  {
   "cell_type": "code",
   "execution_count": null,
   "metadata": {
    "collapsed": true
   },
   "outputs": [],
   "source": []
  }
 ],
 "metadata": {
  "kernelspec": {
   "display_name": "Python 3",
   "language": "python",
   "name": "python3"
  },
  "language_info": {
   "codemirror_mode": {
    "name": "ipython",
    "version": 3
   },
   "file_extension": ".py",
   "mimetype": "text/x-python",
   "name": "python",
   "nbconvert_exporter": "python",
   "pygments_lexer": "ipython3",
   "version": "3.6.3"
  }
 },
 "nbformat": 4,
 "nbformat_minor": 1
}
