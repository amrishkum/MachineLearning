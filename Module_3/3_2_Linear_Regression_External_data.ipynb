{
 "cells": [
  {
   "cell_type": "code",
   "execution_count": 4,
   "metadata": {
    "collapsed": true
   },
   "outputs": [],
   "source": [
    "import numpy as np\n",
    "import matplotlib.pyplot as plt\n",
    "import tensorflow as tf\n",
    "import xlrd\n"
   ]
  },
  {
   "cell_type": "code",
   "execution_count": 6,
   "metadata": {
    "collapsed": true
   },
   "outputs": [],
   "source": [
    "DATA_FILE = './fire_theft.xls'"
   ]
  },
  {
   "cell_type": "code",
   "execution_count": 7,
   "metadata": {
    "collapsed": false
   },
   "outputs": [],
   "source": [
    "# Step 1: read in data from the .xls file\n",
    "book = xlrd.open_workbook(DATA_FILE, encoding_override=\"utf-8\")\n",
    "sheet = book.sheet_by_index(0)\n",
    "data = np.asarray([sheet.row_values(i) for i in range(1, sheet.nrows)])\n",
    "n_samples = sheet.nrows - 1"
   ]
  },
  {
   "cell_type": "code",
   "execution_count": 8,
   "metadata": {
    "collapsed": true
   },
   "outputs": [],
   "source": [
    "# Step 2: create placeholders for input X (number of fire) and label Y (number of theft)\n",
    "X = tf.placeholder(tf.float32, name='X')\n",
    "Y = tf.placeholder(tf.float32, name='Y')"
   ]
  },
  {
   "cell_type": "code",
   "execution_count": 9,
   "metadata": {
    "collapsed": true
   },
   "outputs": [],
   "source": [
    "# Step 3: create weight and bias, initialized to 0\n",
    "w = tf.Variable(0.0, name='weights')\n",
    "b = tf.Variable(0.0, name='bias')"
   ]
  },
  {
   "cell_type": "code",
   "execution_count": 10,
   "metadata": {
    "collapsed": true
   },
   "outputs": [],
   "source": [
    "# Step 4: build model to predict Y\n",
    "Y_predicted = X * w + b "
   ]
  },
  {
   "cell_type": "code",
   "execution_count": 11,
   "metadata": {
    "collapsed": true
   },
   "outputs": [],
   "source": [
    "# Step 5: use the square error as the loss function\n",
    "loss = tf.square(Y - Y_predicted, name='loss')"
   ]
  },
  {
   "cell_type": "code",
   "execution_count": 13,
   "metadata": {
    "collapsed": false
   },
   "outputs": [],
   "source": [
    "# Step 6: using gradient descent with learning rate of 0.01 to minimize loss\n",
    "optimizer = tf.train.GradientDescentOptimizer(learning_rate=0.001).minimize(loss)"
   ]
  },
  {
   "cell_type": "code",
   "execution_count": 14,
   "metadata": {
    "collapsed": false
   },
   "outputs": [
    {
     "name": "stdout",
     "output_type": "stream",
     "text": [
      "Epoch 0: 2069.6319334\n",
      "Epoch 1: 2117.0123582\n",
      "Epoch 2: 2092.302723\n",
      "Epoch 3: 2068.50804619\n",
      "Epoch 4: 2045.59118409\n",
      "Epoch 5: 2023.51464481\n",
      "Epoch 6: 2002.24476198\n",
      "Epoch 7: 1981.7483388\n",
      "Epoch 8: 1961.99444113\n",
      "Epoch 9: 1942.95201161\n",
      "Epoch 10: 1924.59308236\n",
      "Epoch 11: 1906.88988006\n",
      "Epoch 12: 1889.81645058\n",
      "Epoch 13: 1873.34713384\n",
      "Epoch 14: 1857.45884006\n",
      "Epoch 15: 1842.12787424\n",
      "Epoch 16: 1827.33249512\n",
      "Epoch 17: 1813.05205797\n",
      "Epoch 18: 1799.26608476\n",
      "Epoch 19: 1785.95621323\n",
      "Epoch 20: 1773.10248531\n",
      "Epoch 21: 1760.68912948\n",
      "Epoch 22: 1748.69841571\n",
      "Epoch 23: 1737.11386804\n",
      "Epoch 24: 1725.92087307\n",
      "Epoch 25: 1715.10462496\n",
      "Epoch 26: 1704.65009543\n",
      "Epoch 27: 1694.54471349\n",
      "Epoch 28: 1684.77463113\n",
      "Epoch 29: 1675.32845097\n",
      "Epoch 30: 1666.19353858\n",
      "Epoch 31: 1657.35840021\n",
      "Epoch 32: 1648.81226585\n",
      "Epoch 33: 1640.54407425\n",
      "Epoch 34: 1632.54468361\n",
      "Epoch 35: 1624.80433151\n",
      "Epoch 36: 1617.31268\n",
      "Epoch 37: 1610.06225325\n",
      "Epoch 38: 1603.04335572\n",
      "Epoch 39: 1596.24791761\n",
      "Epoch 40: 1589.66805633\n",
      "Epoch 41: 1583.29652426\n",
      "Epoch 42: 1577.12637129\n",
      "Epoch 43: 1571.15011906\n",
      "Epoch 44: 1565.36097915\n",
      "Epoch 45: 1559.75237808\n",
      "Epoch 46: 1554.31843646\n",
      "Epoch 47: 1549.05294696\n",
      "Epoch 48: 1543.95005999\n",
      "Epoch 49: 1539.00502821\n",
      "Epoch 50: 1534.2117978\n",
      "Epoch 51: 1529.56534989\n",
      "Epoch 52: 1525.06075912\n",
      "Epoch 53: 1520.69346485\n",
      "Epoch 54: 1516.45859351\n",
      "Epoch 55: 1512.35240239\n",
      "Epoch 56: 1508.36957801\n",
      "Epoch 57: 1504.50665881\n",
      "Epoch 58: 1500.76062691\n",
      "Epoch 59: 1497.12633656\n",
      "Epoch 60: 1493.60021089\n",
      "Epoch 61: 1490.17949913\n",
      "Epoch 62: 1486.86051453\n",
      "Epoch 63: 1483.63941993\n",
      "Epoch 64: 1480.51441864\n",
      "Epoch 65: 1477.48110657\n",
      "Epoch 66: 1474.53766605\n",
      "Epoch 67: 1471.67991767\n",
      "Epoch 68: 1468.90631556\n",
      "Epoch 69: 1466.21368803\n",
      "Epoch 70: 1463.59965632\n",
      "Epoch 71: 1461.0614087\n",
      "Epoch 72: 1458.59720884\n",
      "Epoch 73: 1456.20430697\n",
      "Epoch 74: 1453.88077248\n",
      "Epoch 75: 1451.62421839\n",
      "Epoch 76: 1449.43275321\n",
      "Epoch 77: 1447.30423202\n",
      "Epoch 78: 1445.23706862\n",
      "Epoch 79: 1443.22887268\n",
      "Epoch 80: 1441.27821302\n",
      "Epoch 81: 1439.38314222\n",
      "Epoch 82: 1437.54222492\n",
      "Epoch 83: 1435.754022\n",
      "Epoch 84: 1434.01606845\n",
      "Epoch 85: 1432.32765739\n",
      "Epoch 86: 1430.68715333\n",
      "Epoch 87: 1429.09301688\n",
      "Epoch 88: 1427.54371996\n",
      "Epoch 89: 1426.03803311\n",
      "Epoch 90: 1424.57482108\n",
      "Epoch 91: 1423.15317024\n",
      "Epoch 92: 1421.77102685\n",
      "Epoch 93: 1420.42749839\n",
      "Epoch 94: 1419.12196799\n",
      "Epoch 95: 1417.85251878\n",
      "Epoch 96: 1416.61893052\n",
      "Epoch 97: 1415.41960224\n",
      "Epoch 98: 1414.25343791\n",
      "Epoch 99: 1413.1202843\n"
     ]
    }
   ],
   "source": [
    "with tf.Session() as sess:\n",
    "    # Step 7: initialize the necessary variables, in this case, w and b\n",
    "    sess.run(tf.global_variables_initializer()) \n",
    "    \n",
    "    writer = tf.summary.FileWriter('./my_graph/03/linear_reg', sess.graph)\n",
    "    \n",
    "    # Step 8: train the model\n",
    "    for i in range(100): # train the model 100 times\n",
    "        total_loss = 0\n",
    "        for x, y in data:\n",
    "            # Session runs train_op and fetch values of loss\n",
    "            _, l = sess.run([optimizer, loss], feed_dict={X: x, Y:y}) \n",
    "            total_loss += l\n",
    "        print 'Epoch {0}: {1}'.format(i, total_loss/n_samples)\n",
    "\n",
    "    # close the writer when you're done using it\n",
    "    writer.close() \n",
    "    \n",
    "    # Step 9: output the values of w and b\n",
    "    w_value, b_value = sess.run([w, b]) "
   ]
  },
  {
   "cell_type": "code",
   "execution_count": 15,
   "metadata": {
    "collapsed": false
   },
   "outputs": [
    {
     "data": {
      "image/png": "[encoded data removed]",
      "text/plain": [
       "<matplotlib.figure.Figure at 0x7f629cd54d10>"
      ]
     },
     "metadata": {},
     "output_type": "display_data"
    }
   ],
   "source": [
    "# plot the results\n",
    "X, Y = data.T[0], data.T[1]\n",
    "plt.plot(X, Y, 'bo', label='Real data')\n",
    "plt.plot(X, X * w_value + b_value, 'r', label='Predicted data')\n",
    "plt.legend()\n",
    "plt.show()"
   ]
  },
  {
   "cell_type": "code",
   "execution_count": null,
   "metadata": {
    "collapsed": true
   },
   "outputs": [],
   "source": []
  }
 ],
 "metadata": {
  "kernelspec": {
   "display_name": "Python 2",
   "language": "python",
   "name": "python2"
  },
  "language_info": {
   "codemirror_mode": {
    "name": "ipython",
    "version": 2
   },
   "file_extension": ".py",
   "mimetype": "text/x-python",
   "name": "python",
   "nbconvert_exporter": "python",
   "pygments_lexer": "ipython2",
   "version": "2.7.12"
  }
 },
 "nbformat": 4,
 "nbformat_minor": 1
}
