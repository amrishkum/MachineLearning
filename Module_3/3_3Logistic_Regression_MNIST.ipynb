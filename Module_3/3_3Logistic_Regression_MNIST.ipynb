{
 "cells": [
  {
   "cell_type": "code",
   "execution_count": 15,
   "metadata": {
    "collapsed": true
   },
   "outputs": [],
   "source": [
    "import tensorflow as tf"
   ]
  },
  {
   "cell_type": "code",
   "execution_count": 28,
   "metadata": {
    "collapsed": true
   },
   "outputs": [],
   "source": [
    "with tf.name_scope(\"inputs\"):\n",
    "    x = tf.placeholder(tf.float32, [None, 784])"
   ]
  },
  {
   "cell_type": "code",
   "execution_count": 17,
   "metadata": {
    "collapsed": true
   },
   "outputs": [],
   "source": [
    "with t\n",
    "W = tf.Variable(tf.zeros([784, 10]))\n",
    "b = tf.Variable(tf.zeros([10]))"
   ]
  },
  {
   "cell_type": "code",
   "execution_count": 18,
   "metadata": {
    "collapsed": true
   },
   "outputs": [],
   "source": [
    "y = tf.nn.softmax(tf.matmul(x, W) + b)"
   ]
  },
  {
   "cell_type": "code",
   "execution_count": 19,
   "metadata": {
    "collapsed": true
   },
   "outputs": [],
   "source": [
    "y_ = tf.placeholder(tf.float32, [None, 10])"
   ]
  },
  {
   "cell_type": "code",
   "execution_count": 20,
   "metadata": {
    "collapsed": true
   },
   "outputs": [],
   "source": [
    "cross_entropy = tf.reduce_mean(-tf.reduce_sum(y_ * tf.log(y), reduction_indices=[1]))\n"
   ]
  },
  {
   "cell_type": "code",
   "execution_count": 21,
   "metadata": {
    "collapsed": true
   },
   "outputs": [],
   "source": [
    "train_step = tf.train.GradientDescentOptimizer(0.5).minimize(cross_entropy)\n",
    "summary_writer = tf.summary.FileWriter('./mnist_train',sess.graph)"
   ]
  },
  {
   "cell_type": "code",
   "execution_count": 22,
   "metadata": {
    "collapsed": false
   },
   "outputs": [
    {
     "name": "stdout",
     "output_type": "stream",
     "text": [
      "Extracting MNIST_data/train-images-idx3-ubyte.gz\n",
      "Extracting MNIST_data/train-labels-idx1-ubyte.gz\n",
      "Extracting MNIST_data/t10k-images-idx3-ubyte.gz\n",
      "Extracting MNIST_data/t10k-labels-idx1-ubyte.gz\n"
     ]
    }
   ],
   "source": [
    "from tensorflow.examples.tutorials.mnist import input_data\n",
    "mnist = input_data.read_data_sets(\"MNIST_data/\", one_hot=True)"
   ]
  },
  {
   "cell_type": "code",
   "execution_count": 27,
   "metadata": {
    "collapsed": false
   },
   "outputs": [
    {
     "name": "stdout",
     "output_type": "stream",
     "text": [
      "0.2902\n",
      "0.2248\n",
      "0.517\n",
      "0.5995\n",
      "0.5982\n",
      "0.7128\n",
      "0.7616\n",
      "0.7306\n",
      "0.8157\n",
      "0.7577\n",
      "0.7734\n",
      "0.7598\n",
      "0.7451\n",
      "0.78\n",
      "0.7906\n",
      "0.8173\n",
      "0.7852\n",
      "0.8041\n",
      "0.8341\n",
      "0.8179\n",
      "0.8438\n",
      "0.8506\n",
      "0.8565\n",
      "0.8449\n",
      "0.8641\n",
      "0.8502\n",
      "0.8568\n",
      "0.838\n",
      "0.8682\n",
      "0.83\n",
      "0.8625\n",
      "0.8754\n",
      "0.8651\n",
      "0.8683\n",
      "0.8704\n",
      "0.8701\n",
      "0.8563\n",
      "0.8745\n",
      "0.8598\n",
      "0.8682\n",
      "0.8773\n",
      "0.8736\n",
      "0.8599\n",
      "0.8727\n",
      "0.8751\n",
      "0.8726\n",
      "0.8763\n",
      "0.878\n",
      "0.8793\n",
      "0.8794\n",
      "0.8782\n",
      "0.8795\n",
      "0.8767\n",
      "0.8827\n",
      "0.8753\n",
      "0.8851\n",
      "0.8851\n",
      "0.884\n",
      "0.8845\n",
      "0.8674\n",
      "0.8856\n",
      "0.8835\n",
      "0.8799\n",
      "0.8816\n",
      "0.8806\n",
      "0.8878\n",
      "0.8822\n",
      "0.8891\n",
      "0.8895\n",
      "0.8796\n",
      "0.8853\n",
      "0.8897\n",
      "0.8869\n",
      "0.8844\n",
      "0.8892\n",
      "0.8882\n",
      "0.8824\n",
      "0.8897\n",
      "0.8854\n",
      "0.8852\n",
      "0.8922\n",
      "0.8896\n",
      "0.8901\n",
      "0.891\n",
      "0.8866\n",
      "0.89\n",
      "0.8857\n",
      "0.8902\n",
      "0.8822\n",
      "0.8873\n",
      "0.8845\n",
      "0.8857\n",
      "0.8861\n",
      "0.8881\n",
      "0.8846\n",
      "0.8889\n",
      "0.8937\n",
      "0.8913\n",
      "0.8805\n",
      "0.8727\n"
     ]
    }
   ],
   "source": [
    "with tf.Session() as sess:\n",
    "    summary_writer = tf.summary.FileWriter('./mnist_train',sess.graph)\n",
    "    init = tf.global_variables_initializer()\n",
    "    sess.run(init)\n",
    "    for _ in range(100):\n",
    "        batch_xs, batch_ys = mnist.train.next_batch(100)\n",
    "        sess.run(train_step, feed_dict={x: batch_xs, y_: batch_ys})\n",
    "        #print s\n",
    "        correct_prediction = tf.equal(tf.argmax(y,1), tf.argmax(y_,1))\n",
    "        accuracy = tf.reduce_mean(tf.cast(correct_prediction, tf.float32))\n",
    "        tf.summary.scalar('accuracy',accuracy)\n",
    "        print(sess.run(accuracy, feed_dict={x: mnist.test.images, y_: mnist.test.labels}))\n",
    "        \n",
    "\n",
    "\n"
   ]
  },
  {
   "cell_type": "code",
   "execution_count": null,
   "metadata": {
    "collapsed": true
   },
   "outputs": [],
   "source": []
  }
 ],
 "metadata": {
  "kernelspec": {
   "display_name": "Python 2",
   "language": "python",
   "name": "python2"
  },
  "language_info": {
   "codemirror_mode": {
    "name": "ipython",
    "version": 2
   },
   "file_extension": ".py",
   "mimetype": "text/x-python",
   "name": "python",
   "nbconvert_exporter": "python",
   "pygments_lexer": "ipython2",
   "version": "2.7.12"
  }
 },
 "nbformat": 4,
 "nbformat_minor": 1
}
